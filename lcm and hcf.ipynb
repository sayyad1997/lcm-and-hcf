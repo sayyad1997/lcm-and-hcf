{
 "cells": [
  {
   "cell_type": "code",
   "execution_count": 1,
   "id": "91396943",
   "metadata": {},
   "outputs": [],
   "source": [
    "def at(a,b):\n",
    "    if a>b:\n",
    "        greater=a\n",
    "    else:\n",
    "        greater=b\n",
    "    while(\"true\"):\n",
    "        if greater%a==0 and greater%b==0:\n",
    "            lcm=greater\n",
    "            break\n",
    "        greater+=1\n",
    "    print(lcm)"
   ]
  },
  {
   "cell_type": "code",
   "execution_count": 2,
   "id": "9c618718",
   "metadata": {},
   "outputs": [
    {
     "name": "stdout",
     "output_type": "stream",
     "text": [
      "1047489\n"
     ]
    }
   ],
   "source": [
    "at(3243,323)"
   ]
  },
  {
   "cell_type": "code",
   "execution_count": 9,
   "id": "a612596c",
   "metadata": {},
   "outputs": [],
   "source": [
    "def sayyad(a,b):\n",
    "    if a<b:\n",
    "        small=a\n",
    "    else:\n",
    "        small=b\n",
    "    for i in range(1,small+1):\n",
    "        if a%i==0 and b%i==0:\n",
    "            print(i)"
   ]
  },
  {
   "cell_type": "code",
   "execution_count": 10,
   "id": "55ac0de4",
   "metadata": {},
   "outputs": [
    {
     "name": "stdout",
     "output_type": "stream",
     "text": [
      "1\n",
      "2\n",
      "3\n",
      "4\n",
      "6\n",
      "8\n",
      "12\n",
      "24\n"
     ]
    }
   ],
   "source": [
    "sayyad(3432,432)"
   ]
  },
  {
   "cell_type": "code",
   "execution_count": 11,
   "id": "20ec4e69",
   "metadata": {},
   "outputs": [],
   "source": [
    "def sayyad(a,b):\n",
    "    if a<b:\n",
    "        smallest=a\n",
    "    else:\n",
    "        smallest=b\n",
    "    for i in range(1,smallest+1):\n",
    "        if a%i==0 and b%i==0:\n",
    "            print(\"gcd of a and b :\",i)"
   ]
  },
  {
   "cell_type": "code",
   "execution_count": 12,
   "id": "3a2aa670",
   "metadata": {},
   "outputs": [
    {
     "name": "stdout",
     "output_type": "stream",
     "text": [
      "gcd of a and b : 1\n",
      "gcd of a and b : 2\n"
     ]
    }
   ],
   "source": [
    "sayyad(34,654)"
   ]
  },
  {
   "cell_type": "code",
   "execution_count": 13,
   "id": "a0d72a1e",
   "metadata": {},
   "outputs": [
    {
     "name": "stdout",
     "output_type": "stream",
     "text": [
      "gcd of a and b : 1\n"
     ]
    }
   ],
   "source": [
    "sayyad(54,23)"
   ]
  },
  {
   "cell_type": "code",
   "execution_count": 14,
   "id": "eb4df62c",
   "metadata": {},
   "outputs": [],
   "source": [
    "def sayyad(x,y):\n",
    "    if x<y :\n",
    "        smallest=x\n",
    "    else:\n",
    "        smallest=y\n",
    "    for i in range(1,smallest+1):\n",
    "        if x%i==0 and y%i==0:\n",
    "            print(\"gcd of \",x,\"and\", y, \"=\",i)"
   ]
  },
  {
   "cell_type": "code",
   "execution_count": 15,
   "id": "44017836",
   "metadata": {},
   "outputs": [
    {
     "name": "stdout",
     "output_type": "stream",
     "text": [
      "gcd of  433 and 533 = 1\n"
     ]
    }
   ],
   "source": [
    "sayyad(433,533)"
   ]
  },
  {
   "cell_type": "code",
   "execution_count": 16,
   "id": "a98fc63e",
   "metadata": {},
   "outputs": [
    {
     "name": "stdout",
     "output_type": "stream",
     "text": [
      "gcd of  2123 and 54343 = 1\n"
     ]
    }
   ],
   "source": [
    "sayyad(2123,54343)"
   ]
  },
  {
   "cell_type": "code",
   "execution_count": 18,
   "id": "c59d8506",
   "metadata": {},
   "outputs": [],
   "source": [
    "def sayyad(a,b):\n",
    "    if a>b:\n",
    "        greater=a\n",
    "    else:\n",
    "        greater=b\n",
    "    while(\"true\"):\n",
    "        if greater%a==0 and greater%b==0:\n",
    "            lcm=greater\n",
    "            break\n",
    "        greater+=1\n",
    "    print(\"lcm of a and b :\",lcm)"
   ]
  },
  {
   "cell_type": "code",
   "execution_count": 19,
   "id": "b6e9eb2b",
   "metadata": {},
   "outputs": [
    {
     "name": "stdout",
     "output_type": "stream",
     "text": [
      "lcm of a and b : 5759192\n"
     ]
    }
   ],
   "source": [
    "sayyad(424,54332)"
   ]
  },
  {
   "cell_type": "code",
   "execution_count": 20,
   "id": "c3c75f0a",
   "metadata": {},
   "outputs": [
    {
     "name": "stdout",
     "output_type": "stream",
     "text": [
      "lcm of a and b : 5868744\n"
     ]
    }
   ],
   "source": [
    "sayyad(543,32424)"
   ]
  },
  {
   "cell_type": "code",
   "execution_count": 21,
   "id": "c9ac6898",
   "metadata": {},
   "outputs": [],
   "source": [
    "def sa(x,y):\n",
    "    if x>y:\n",
    "        greater=x\n",
    "    else:\n",
    "        greater=y\n",
    "    while(\"true\"):\n",
    "        if greater%x==0 and greater%y==0:\n",
    "            lcm=greater\n",
    "            break\n",
    "        greater+=1\n",
    "    print(\"lcm of \",x,\"and\",y,\"=\",lcm)"
   ]
  },
  {
   "cell_type": "code",
   "execution_count": 22,
   "id": "fa193da0",
   "metadata": {},
   "outputs": [
    {
     "name": "stdout",
     "output_type": "stream",
     "text": [
      "lcm of  453 and 76553 = 34678509\n"
     ]
    }
   ],
   "source": [
    "sa(453,76553)"
   ]
  },
  {
   "cell_type": "code",
   "execution_count": 23,
   "id": "99101fb6",
   "metadata": {},
   "outputs": [
    {
     "name": "stdout",
     "output_type": "stream",
     "text": [
      "lcm of  4331 and 532 = 2304092\n"
     ]
    }
   ],
   "source": [
    "sa(4331,532)"
   ]
  },
  {
   "cell_type": "code",
   "execution_count": null,
   "id": "a976eaf2",
   "metadata": {},
   "outputs": [],
   "source": []
  }
 ],
 "metadata": {
  "kernelspec": {
   "display_name": "Python 3 (ipykernel)",
   "language": "python",
   "name": "python3"
  },
  "language_info": {
   "codemirror_mode": {
    "name": "ipython",
    "version": 3
   },
   "file_extension": ".py",
   "mimetype": "text/x-python",
   "name": "python",
   "nbconvert_exporter": "python",
   "pygments_lexer": "ipython3",
   "version": "3.11.1"
  }
 },
 "nbformat": 4,
 "nbformat_minor": 5
}
